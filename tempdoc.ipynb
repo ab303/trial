{
 "cells": [
  {
   "cell_type": "code",
   "execution_count": 13,
   "metadata": {
    "collapsed": true
   },
   "outputs": [],
   "source": [
    "def oddDivisorSum(n):\n",
    "    while n % 2 == 0:\n",
    "        n //= 2\n",
    "    sum = 0\n",
    "    for k in range(1, int(n ** .5) + 1, 2):\n",
    "        if n % k == 0:\n",
    "            sum += k\n",
    "            if n // k != k:\n",
    "                sum += n // k\n",
    "    return sum"
   ]
  },
  {
   "cell_type": "code",
   "execution_count": 14,
   "metadata": {},
   "outputs": [
    {
     "name": "stdout",
     "output_type": "stream",
     "text": [
      "13\n"
     ]
    }
   ],
   "source": [
    "print(oddDivisorSum(9))"
   ]
  },
  {
   "cell_type": "code",
   "execution_count": 15,
   "metadata": {
    "collapsed": true
   },
   "outputs": [],
   "source": [
    "def totalOddDivisorSum(numbers):\n",
    "    return sum(oddDivisorSum(n) for n in numbers)"
   ]
  },
  {
   "cell_type": "code",
   "execution_count": 16,
   "metadata": {
    "collapsed": true
   },
   "outputs": [],
   "source": [
    "K = [1,80,90,100,500,6,6,6,6,6,6]"
   ]
  },
  {
   "cell_type": "code",
   "execution_count": 17,
   "metadata": {},
   "outputs": [
    {
     "data": {
      "text/plain": [
       "296"
      ]
     },
     "execution_count": 17,
     "metadata": {},
     "output_type": "execute_result"
    }
   ],
   "source": [
    "totalOddDivisorSum(K)"
   ]
  },
  {
   "cell_type": "code",
   "execution_count": 47,
   "metadata": {},
   "outputs": [],
   "source": [
    " def isInterleave(s1, s2, s3, memo={}):\n",
    "        if len(s1) + len(s2) != len(s3): return False\n",
    "        if not s1 and not s2 and not s3: return True\n",
    "        if (s1, s2, s3) in memo:         return memo[s1, s2, s3]\n",
    "        memo[s1,s2,s3] =\\\n",
    "               (len(s1) > 0 and len(s3) > 0 and s1[0] == s3[0] and isInterleave(s1[1:], s2, s3[1:], memo)) or\\\n",
    "               (len(s2) > 0 and len(s3) > 0 and s2[0] == s3[0] and isInterleave(s1, s2[1:], s3[1:], memo))\n",
    "        return memo[s1,s2,s3]"
   ]
  },
  {
   "cell_type": "code",
   "execution_count": 48,
   "metadata": {
    "collapsed": true
   },
   "outputs": [],
   "source": [
    "a = \"aab\"\n",
    "b = \"aab\"\n",
    "c = \"aaaabb\""
   ]
  },
  {
   "cell_type": "code",
   "execution_count": 49,
   "metadata": {},
   "outputs": [
    {
     "data": {
      "text/plain": [
       "True"
      ]
     },
     "execution_count": 49,
     "metadata": {},
     "output_type": "execute_result"
    }
   ],
   "source": [
    "isInterleave(a,a,c)"
   ]
  },
  {
   "cell_type": "code",
   "execution_count": 52,
   "metadata": {},
   "outputs": [
    {
     "name": "stdout",
     "output_type": "stream",
     "text": [
      "['ab', 'cd', 'ef', 'gh']\n"
     ]
    }
   ],
   "source": [
    "def solution(s):\n",
    "    c,res=0,list()\n",
    "    for i in range(0,len(s),2):\n",
    "        if(i+1<len(s)):\n",
    "            res.append(s[i:i+2])\n",
    "            continue\n",
    "        res.append(s[i]+\"_\")\n",
    "    return  (res)\n",
    "print(solution(\"abcdefgh\"))"
   ]
  },
  {
   "cell_type": "code",
   "execution_count": null,
   "metadata": {
    "collapsed": true
   },
   "outputs": [],
   "source": []
  }
 ],
 "metadata": {
  "kernelspec": {
   "display_name": "Python 3",
   "language": "python",
   "name": "python3"
  },
  "language_info": {
   "codemirror_mode": {
    "name": "ipython",
    "version": 3
   },
   "file_extension": ".py",
   "mimetype": "text/x-python",
   "name": "python",
   "nbconvert_exporter": "python",
   "pygments_lexer": "ipython3",
   "version": "3.6.1"
  }
 },
 "nbformat": 4,
 "nbformat_minor": 2
}
